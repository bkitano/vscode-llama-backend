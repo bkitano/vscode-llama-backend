{
 "cells": [
  {
   "cell_type": "code",
   "execution_count": 10,
   "id": "b385fdc6-cecc-4564-ab12-85f494a00781",
   "metadata": {},
   "outputs": [
    {
     "name": "stderr",
     "output_type": "stream",
     "text": [
      "/Users/bkitano/Desktop/projects/codellama-server/.codellama-server/lib/python3.11/site-packages/langchain/embeddings/openai.py:438: PydanticDeprecatedSince20: The `dict` method is deprecated; use `model_dump` instead. Deprecated in Pydantic V2.0 to be removed in V3.0. See Pydantic V2 Migration Guide at https://errors.pydantic.dev/2.5/migration/\n",
      "  response = response.dict()\n",
      "/Users/bkitano/Desktop/projects/codellama-server/.codellama-server/lib/python3.11/site-packages/pydantic/main.py:979: PydanticDeprecatedSince20: The `dict` method is deprecated; use `model_dump` instead. Deprecated in Pydantic V2.0 to be removed in V3.0. See Pydantic V2 Migration Guide at https://errors.pydantic.dev/2.5/migration/\n",
      "  warnings.warn('The `dict` method is deprecated; use `model_dump` instead.', DeprecationWarning)\n",
      "/Users/bkitano/Desktop/projects/codellama-server/.codellama-server/lib/python3.11/site-packages/langchain/chat_models/openai.py:389: PydanticDeprecatedSince20: The `dict` method is deprecated; use `model_dump` instead. Deprecated in Pydantic V2.0 to be removed in V3.0. See Pydantic V2 Migration Guide at https://errors.pydantic.dev/2.5/migration/\n",
      "  chunk = chunk.dict()\n",
      "/Users/bkitano/Desktop/projects/codellama-server/.codellama-server/lib/python3.11/site-packages/pydantic/main.py:979: PydanticDeprecatedSince20: The `dict` method is deprecated; use `model_dump` instead. Deprecated in Pydantic V2.0 to be removed in V3.0. See Pydantic V2 Migration Guide at https://errors.pydantic.dev/2.5/migration/\n",
      "  warnings.warn('The `dict` method is deprecated; use `model_dump` instead.', DeprecationWarning)\n"
     ]
    },
    {
     "name": "stdout",
     "output_type": "stream",
     "text": [
      "Sure, here is a simple Spring Boot application:\n",
      "\n",
      "```java\n",
      "import org.springframework.boot.SpringApplication;\n",
      "import org.springframework.boot.autoconfigure.SpringBootApplication;\n",
      "import org.springframework.web.bind.annotation.GetMapping;\n",
      "import org.springframework.web.bind.annotation.RestController;\n",
      "\n",
      "@SpringBootApplication\n",
      "public class SimpleApplication {\n",
      "\n",
      "    public static void main(String[] args) {\n",
      "        SpringApplication.run(SimpleApplication.class, args);\n",
      "    }\n",
      "\n",
      "    @RestController\n",
      "    class HelloController {\n",
      "\n",
      "        @GetMapping(\"/\")\n",
      "        public String hello() {\n",
      "            return \"Hello, World!\";\n",
      "        }\n",
      "    }\n",
      "}\n",
      "```\n",
      "\n",
      "This application includes a single REST endpoint that returns \"Hello, World!\" when accessed. You can run this application by executing the `main` method in the `SimpleApplication` class. Once the application is running, you can access the REST endpoint by navigating to `http://localhost:8080/` in your web browser.\n"
     ]
    }
   ],
   "source": [
    "# LangChain - QA with code\n",
    "from dotenv import load_dotenv\n",
    "load_dotenv()\n",
    "import weaviate\n",
    "import os \n",
    "\n",
    "auth_config = weaviate.AuthApiKey(api_key=os.environ[\"WEAVIATE_API_KEY\"])\n",
    "\n",
    "weaviate_client = weaviate.Client(\n",
    "  url=\"https://cisco-lomxf30k.weaviate.network\",\n",
    "  auth_client_secret=auth_config\n",
    ")\n",
    "from langchain.embeddings.openai import OpenAIEmbeddings\n",
    "from langchain.vectorstores import Weaviate\n",
    "\n",
    "embeddings = OpenAIEmbeddings(disallowed_special=())\n",
    "db = Weaviate(weaviate_client, \"LangChain_198d6a7a03af4920914bf5b129b32527\", \"text\", embeddings)\n",
    "retriever = db.as_retriever(\n",
    "    search_type=\"mmr\",  # You can also experiment with \"similarity\"\n",
    "    search_kwargs={\"k\": 8},\n",
    ")\n",
    "from langchain.chat_models import ChatOpenAI\n",
    "from langchain.chains import ConversationalRetrievalChain\n",
    "from langchain.callbacks.streaming_stdout_final_only import FinalStreamingStdOutCallbackHandler\n",
    "\n",
    "llm = ChatOpenAI(temperature=0, streaming=True, model_name=\"gpt-4\", callbacks=[FinalStreamingStdOutCallbackHandler()])\n",
    "qa = ConversationalRetrievalChain.from_llm(llm, retriever=retriever)\n",
    "\n",
    "chat_history = []\n",
    "question = \"Make me a simple Spring Boot application.\"\n",
    "result = qa({\"question\": question, \"chat_history\": chat_history})\n",
    "chat_history.append((question, result[\"answer\"]))\n",
    "print(result[\"answer\"])"
   ]
  },
  {
   "cell_type": "code",
   "execution_count": 11,
   "id": "f76af235",
   "metadata": {},
   "outputs": [
    {
     "name": "stderr",
     "output_type": "stream",
     "text": [
      "/Users/bkitano/Desktop/projects/codellama-server/.codellama-server/lib/python3.11/site-packages/langchain/embeddings/openai.py:438: PydanticDeprecatedSince20: The `dict` method is deprecated; use `model_dump` instead. Deprecated in Pydantic V2.0 to be removed in V3.0. See Pydantic V2 Migration Guide at https://errors.pydantic.dev/2.5/migration/\n",
      "  response = response.dict()\n",
      "/Users/bkitano/Desktop/projects/codellama-server/.codellama-server/lib/python3.11/site-packages/pydantic/main.py:979: PydanticDeprecatedSince20: The `dict` method is deprecated; use `model_dump` instead. Deprecated in Pydantic V2.0 to be removed in V3.0. See Pydantic V2 Migration Guide at https://errors.pydantic.dev/2.5/migration/\n",
      "  warnings.warn('The `dict` method is deprecated; use `model_dump` instead.', DeprecationWarning)\n"
     ]
    },
    {
     "data": {
      "text/plain": [
       "[Document(page_content='import java.util.Arrays;\\nimport java.util.Collections;\\nimport java.util.List;\\nimport java.util.Map;\\nimport java.util.Set;\\nimport java.util.TreeMap;\\nimport java.util.stream.Collectors;\\n\\nimport com.gradle.enterprise.gradleplugin.testretry.TestRetryExtension;\\nimport com.gradle.enterprise.gradleplugin.testselection.PredictiveTestSelectionExtension;\\nimport io.spring.javaformat.gradle.SpringJavaFormatPlugin;\\nimport io.spring.javaformat.gradle.tasks.CheckFormat;\\nimport io.spring.javaformat.gradle.tasks.Format;\\nimport org.gradle.api.JavaVersion;\\nimport org.gradle.api.Project;\\nimport org.gradle.api.artifacts.Configuration;\\nimport org.gradle.api.artifacts.ConfigurationContainer;\\nimport org.gradle.api.artifacts.Dependency;\\nimport org.gradle.api.artifacts.DependencySet;\\nimport org.gradle.api.plugins.JavaBasePlugin;\\nimport org.gradle.api.plugins.JavaPlugin;\\nimport org.gradle.api.plugins.JavaPluginExtension;\\nimport org.gradle.api.plugins.quality.Checkstyle;\\nimport org.gradle.api.plugins.quality.CheckstyleExtension;\\nimport org.gradle.api.plugins.quality.CheckstylePlugin;\\nimport org.gradle.api.tasks.SourceSet;\\nimport org.gradle.api.tasks.SourceSetContainer;\\nimport org.gradle.api.tasks.bundling.Jar;\\nimport org.gradle.api.tasks.compile.JavaCompile;\\nimport org.gradle.api.tasks.javadoc.Javadoc;\\nimport org.gradle.api.tasks.testing.Test;\\nimport org.gradle.external.javadoc.CoreJavadocOptions;\\n\\nimport org.springframework.boot.build.architecture.ArchitecturePlugin;\\nimport org.springframework.boot.build.classpath.CheckClasspathForProhibitedDependencies;\\nimport org.springframework.boot.build.optional.OptionalDependenciesPlugin;\\nimport org.springframework.boot.build.testing.TestFailuresPlugin;\\nimport org.springframework.boot.build.toolchain.ToolchainPlugin;\\nimport org.springframework.util.StringUtils;'),\n",
       " Document(page_content='/*\\n * Copyright 2012-2020 the original author or authors.\\n *\\n * Licensed under the Apache License, Version 2.0 (the \"License\");\\n * you may not use this file except in compliance with the License.\\n * You may obtain a copy of the License at\\n *\\n *      https://www.apache.org/licenses/LICENSE-2.0\\n *\\n * Unless required by applicable law or agreed to in writing, software\\n * distributed under the License is distributed on an \"AS IS\" BASIS,\\n * WITHOUT WARRANTIES OR CONDITIONS OF ANY KIND, either express or implied.\\n * See the License for the specific language governing permissions and\\n * limitations under the License.\\n */\\n\\npackage org.springframework.boot.build.bom.bomr.github;\\n\\n/**\\n * Minimal API for interacting with GitHub.\\n *\\n * @author Andy Wilkinson\\n */\\npublic interface GitHub {\\n\\n\\t/**\\n\\t * Returns a {@link GitHubRepository} with the given {@code name} in the given\\n\\t * {@code organization}.\\n\\t * @param organization the organization\\n\\t * @param name the name of the repository\\n\\t * @return the repository\\n\\t */\\n\\tGitHubRepository getRepository(String organization, String name);\\n\\n\\t/**\\n\\t * Creates a new {@code GitHub} that will authenticate with given {@code username} and\\n\\t * {@code password}.\\n\\t * @param username username for authentication\\n\\t * @param password password for authentication\\n\\t * @return the new {@code GitHub} instance\\n\\t */\\n\\tstatic GitHub withCredentials(String username, String password) {\\n\\t\\treturn new StandardGitHub(username, password);\\n\\t}\\n\\n}'),\n",
       " Document(page_content='/*\\n * Copyright 2012-2022 the original author or authors.\\n *\\n * Licensed under the Apache License, Version 2.0 (the \"License\");\\n * you may not use this file except in compliance with the License.\\n * You may obtain a copy of the License at\\n *\\n *      https://www.apache.org/licenses/LICENSE-2.0\\n *\\n * Unless required by applicable law or agreed to in writing, software\\n * distributed under the License is distributed on an \"AS IS\" BASIS,\\n * WITHOUT WARRANTIES OR CONDITIONS OF ANY KIND, either express or implied.\\n * See the License for the specific language governing permissions and\\n * limitations under the License.\\n */\\n\\npackage org.springframework.boot.build.architecture.tangled;\\n\\nimport org.springframework.boot.build.architecture.tangled.sub.TangledTwo;\\n\\npublic final class TangledOne {\\n\\n\\tpublic static final String ID = TangledTwo.class.getName() + \"One\";\\n\\n\\tprivate TangledOne() {\\n\\n\\t}\\n\\n}'),\n",
       " Document(page_content='class Snippet {\\n\\n\\tprivate final String anchor;\\n\\n\\tprivate final String title;\\n\\n\\tprivate final Set<String> prefixes;\\n\\n\\tprivate final Map<String, String> overrides;\\n\\n\\tSnippet(String anchor, String title, Consumer<Config> config) {\\n\\t\\tSet<String> prefixes = new LinkedHashSet<>();\\n\\t\\tMap<String, String> overrides = new LinkedHashMap<>();\\n\\t\\tif (config != null) {\\n\\t\\t\\tconfig.accept(new Config() {\\n\\n\\t\\t\\t\\t@Override\\n\\t\\t\\t\\tpublic void accept(String prefix) {\\n\\t\\t\\t\\t\\tprefixes.add(prefix);\\n\\t\\t\\t\\t}\\n\\n\\t\\t\\t\\t@Override\\n\\t\\t\\t\\tpublic void accept(String prefix, String description) {\\n\\t\\t\\t\\t\\toverrides.put(prefix, description);\\n\\t\\t\\t\\t}\\n\\n\\t\\t\\t});\\n\\t\\t}\\n\\t\\tthis.anchor = anchor;\\n\\t\\tthis.title = title;\\n\\t\\tthis.prefixes = prefixes;\\n\\t\\tthis.overrides = overrides;\\n\\t}\\n\\n\\tString getAnchor() {\\n\\t\\treturn this.anchor;\\n\\t}\\n\\n\\tString getTitle() {\\n\\t\\treturn this.title;\\n\\t}\\n\\n\\tvoid forEachPrefix(Consumer<String> action) {\\n\\t\\tthis.prefixes.forEach(action);\\n\\t}\\n\\n\\tvoid forEachOverride(BiConsumer<String, String> action) {\\n\\t\\tthis.overrides.forEach(action);\\n\\t}\\n\\n\\t/**\\n\\t * Callback to configure the snippet.\\n\\t */\\n\\tinterface Config {\\n\\n\\t\\t/**\\n\\t\\t * Accept the given prefix using the meta-data description.\\n\\t\\t * @param prefix the prefix to accept\\n\\t\\t */\\n\\t\\tvoid accept(String prefix);\\n\\n\\t\\t/**\\n\\t\\t * Accept the given prefix with a defined description.\\n\\t\\t * @param prefix the prefix to accept\\n\\t\\t * @param description the description to use\\n\\t\\t */\\n\\t\\tvoid accept(String prefix, String description);\\n\\n\\t}\\n\\n}'),\n",
       " Document(page_content='public void setClassifier(String classifier) {\\n\\t\\t\\t\\t\\tthis.classifier = classifier;\\n\\t\\t\\t\\t}\\n\\n\\t\\t\\t}\\n\\n\\t\\t}\\n\\n\\t}\\n\\n\\tpublic static class UpgradeHandler {\\n\\n\\t\\tprivate UpgradePolicy upgradePolicy;\\n\\n\\t\\tprivate final GitHubHandler gitHub = new GitHubHandler();\\n\\n\\t\\tpublic void setPolicy(UpgradePolicy upgradePolicy) {\\n\\t\\t\\tthis.upgradePolicy = upgradePolicy;\\n\\t\\t}\\n\\n\\t\\tpublic void gitHub(Action<GitHubHandler> action) {\\n\\t\\t\\taction.execute(this.gitHub);\\n\\t\\t}\\n\\n\\t}\\n\\n\\tpublic static final class Upgrade {\\n\\n\\t\\tprivate final UpgradePolicy upgradePolicy;\\n\\n\\t\\tprivate final GitHub gitHub;\\n\\n\\t\\tprivate Upgrade(UpgradePolicy upgradePolicy, GitHub gitHub) {\\n\\t\\t\\tthis.upgradePolicy = upgradePolicy;\\n\\t\\t\\tthis.gitHub = gitHub;\\n\\t\\t}\\n\\n\\t\\tpublic UpgradePolicy getPolicy() {\\n\\t\\t\\treturn this.upgradePolicy;\\n\\t\\t}\\n\\n\\t\\tpublic GitHub getGitHub() {\\n\\t\\t\\treturn this.gitHub;\\n\\t\\t}\\n\\n\\t}\\n\\n\\tpublic static class GitHubHandler {\\n\\n\\t\\tprivate String organization = \"spring-projects\";\\n\\n\\t\\tprivate String repository = \"spring-boot\";\\n\\n\\t\\tprivate List<String> issueLabels;\\n\\n\\t\\tpublic void setOrganization(String organization) {\\n\\t\\t\\tthis.organization = organization;\\n\\t\\t}\\n\\n\\t\\tpublic void setRepository(String repository) {\\n\\t\\t\\tthis.repository = repository;\\n\\t\\t}\\n\\n\\t\\tpublic void setIssueLabels(List<String> issueLabels) {\\n\\t\\t\\tthis.issueLabels = issueLabels;\\n\\t\\t}\\n\\n\\t}\\n\\n\\tpublic static final class GitHub {\\n\\n\\t\\tprivate String organization = \"spring-projects\";\\n\\n\\t\\tprivate String repository = \"spring-boot\";\\n\\n\\t\\tprivate final List<String> issueLabels;\\n\\n\\t\\tprivate GitHub(String organization, String repository, List<String> issueLabels) {\\n\\t\\t\\tthis.organization = organization;\\n\\t\\t\\tthis.repository = repository;\\n\\t\\t\\tthis.issueLabels = issueLabels;\\n\\t\\t}\\n\\n\\t\\tpublic String getOrganization() {\\n\\t\\t\\treturn this.organization;\\n\\t\\t}\\n\\n\\t\\tpublic String getRepository() {\\n\\t\\t\\treturn this.repository;\\n\\t\\t}\\n\\n\\t\\tpublic List<String> getIssueLabels() {\\n\\t\\t\\treturn this.issueLabels;\\n\\t\\t}\\n\\n\\t}\\n\\n\\tprivate static final class StripUnrepeatableOutputAction implements Action<Task> {\\n\\n\\t\\tprivate final File effectiveBom;'),\n",
       " Document(page_content='public void normalizeLiveReloadPort() {\\n\\t\\tthis.normalizations.put(\"(LiveReload server is running on port )[\\\\\\\\d]+\", \"$135729\");\\n\\t}\\n\\n\\t@TaskAction\\n\\tvoid runApplication() throws IOException {\\n\\t\\tList<String> command = new ArrayList<>();\\n\\t\\tFile executable = Jvm.current().getExecutable(\"java\");\\n\\t\\tcommand.add(executable.getAbsolutePath());\\n\\t\\tcommand.add(\"-cp\");\\n\\t\\tcommand.add(this.classpath.getFiles()\\n\\t\\t\\t.stream()\\n\\t\\t\\t.map(File::getAbsolutePath)\\n\\t\\t\\t.collect(Collectors.joining(File.pathSeparator)));\\n\\t\\tcommand.add(this.mainClass.get());\\n\\t\\tcommand.addAll(this.args.get());\\n\\t\\tFile outputFile = this.output.getAsFile().get();\\n\\t\\tProcess process = new ProcessBuilder().redirectOutput(outputFile)\\n\\t\\t\\t.redirectError(outputFile)\\n\\t\\t\\t.command(command)\\n\\t\\t\\t.start();\\n\\t\\tawaitLogging(process);\\n\\t\\tprocess.destroy();\\n\\t\\tnormalizeLogging();\\n\\t}\\n\\n\\tprivate void awaitLogging(Process process) {\\n\\t\\tlong end = System.currentTimeMillis() + 60000;\\n\\t\\tString expectedLogging = this.expectedLogging.get();\\n\\t\\twhile (System.currentTimeMillis() < end) {\\n\\t\\t\\tfor (String line : outputLines()) {\\n\\t\\t\\t\\tif (line.contains(expectedLogging)) {\\n\\t\\t\\t\\t\\treturn;\\n\\t\\t\\t\\t}\\n\\t\\t\\t}\\n\\t\\t\\tif (!process.isAlive()) {\\n\\t\\t\\t\\tthrow new IllegalStateException(\"Process exited before \\'\" + expectedLogging + \"\\' was logged\");\\n\\t\\t\\t}\\n\\t\\t}\\n\\t\\tthrow new IllegalStateException(\"\\'\" + expectedLogging + \"\\' was not logged within 60 seconds\");\\n\\t}\\n\\n\\tprivate List<String> outputLines() {\\n\\t\\tPath outputPath = this.output.get().getAsFile().toPath();\\n\\t\\ttry {\\n\\t\\t\\treturn Files.readAllLines(outputPath);\\n\\t\\t}\\n\\t\\tcatch (IOException ex) {\\n\\t\\t\\tthrow new RuntimeException(\"Failed to read lines of output from \\'\" + outputPath + \"\\'\", ex);\\n\\t\\t}\\n\\t}'),\n",
       " Document(page_content='public abstract class ArchitectureCheck extends DefaultTask {\\n\\n\\tprivate FileCollection classes;\\n\\n\\tpublic ArchitectureCheck() {\\n\\t\\tgetOutputDirectory().convention(getProject().getLayout().getBuildDirectory().dir(getName()));\\n\\t\\tgetRules().addAll(allPackagesShouldBeFreeOfTangles(),\\n\\t\\t\\t\\tallBeanPostProcessorBeanMethodsShouldBeStaticAndHaveParametersThatWillNotCausePrematureInitialization(),\\n\\t\\t\\t\\tallBeanFactoryPostProcessorBeanMethodsShouldBeStaticAndHaveNoParameters(),\\n\\t\\t\\t\\tnoClassesShouldCallStepVerifierStepVerifyComplete(),\\n\\t\\t\\t\\tnoClassesShouldConfigureDefaultStepVerifierTimeout(), noClassesShouldCallCollectorsToList());\\n\\t\\tgetRuleDescriptions().set(getRules().map((rules) -> rules.stream().map(ArchRule::getDescription).toList()));\\n\\t}\\n\\n\\t@TaskAction\\n\\tvoid checkArchitecture() throws IOException {\\n\\t\\tJavaClasses javaClasses = new ClassFileImporter()\\n\\t\\t\\t.importPaths(this.classes.getFiles().stream().map(File::toPath).toList());\\n\\t\\tList<EvaluationResult> violations = getRules().get()\\n\\t\\t\\t.stream()\\n\\t\\t\\t.map((rule) -> rule.evaluate(javaClasses))\\n\\t\\t\\t.filter(EvaluationResult::hasViolation)\\n\\t\\t\\t.toList();\\n\\t\\tFile outputFile = getOutputDirectory().file(\"failure-report.txt\").get().getAsFile();\\n\\t\\toutputFile.getParentFile().mkdirs();\\n\\t\\tif (!violations.isEmpty()) {\\n\\t\\t\\tStringBuilder report = new StringBuilder();\\n\\t\\t\\tfor (EvaluationResult violation : violations) {\\n\\t\\t\\t\\treport.append(violation.getFailureReport().toString());\\n\\t\\t\\t\\treport.append(String.format(\"%n\"));\\n\\t\\t\\t}\\n\\t\\t\\tFiles.writeString(outputFile.toPath(), report.toString(), StandardOpenOption.CREATE,\\n\\t\\t\\t\\t\\tStandardOpenOption.TRUNCATE_EXISTING);\\n\\t\\t\\tthrow new GradleException(\"Architecture check failed. See \\'\" + outputFile + \"\\' for details.\");\\n\\t\\t}\\n\\t\\telse {\\n\\t\\t\\toutputFile.createNewFile();\\n\\t\\t}\\n\\t}\\n\\n\\tprivate ArchRule allPackagesShouldBeFreeOfTangles() {\\n\\t\\treturn SlicesRuleDefinition.slices().matching(\"(**)\").should().beFreeOfCycles();\\n\\t}'),\n",
       " Document(page_content='/*\\n * Copyright 2012-2023 the original author or authors.\\n *\\n * Licensed under the Apache License, Version 2.0 (the \"License\");\\n * you may not use this file except in compliance with the License.\\n * You may obtain a copy of the License at\\n *\\n *      https://www.apache.org/licenses/LICENSE-2.0\\n *\\n * Unless required by applicable law or agreed to in writing, software\\n * distributed under the License is distributed on an \"AS IS\" BASIS,\\n * WITHOUT WARRANTIES OR CONDITIONS OF ANY KIND, either express or implied.\\n * See the License for the specific language governing permissions and\\n * limitations under the License.\\n */\\n\\npackage org.springframework.boot.build.bom;\\n\\nimport java.io.File;\\nimport java.io.IOException;\\nimport java.io.InputStreamReader;\\nimport java.nio.charset.StandardCharsets;\\nimport java.util.ArrayList;\\nimport java.util.Collection;\\nimport java.util.HashMap;\\nimport java.util.LinkedHashMap;\\nimport java.util.List;\\nimport java.util.Map;\\n\\nimport javax.inject.Inject;\\nimport javax.xml.parsers.DocumentBuilderFactory;\\nimport javax.xml.transform.TransformerFactory;\\nimport javax.xml.transform.dom.DOMSource;\\nimport javax.xml.transform.stream.StreamResult;\\nimport javax.xml.xpath.XPath;\\nimport javax.xml.xpath.XPathConstants;\\nimport javax.xml.xpath.XPathFactory;')]"
      ]
     },
     "execution_count": 11,
     "metadata": {},
     "output_type": "execute_result"
    }
   ],
   "source": [
    "retriever.get_relevant_documents(\"What is the capital of France?\")"
   ]
  },
  {
   "cell_type": "code",
   "execution_count": null,
   "id": "f2c18bcf-f4b0-469e-bc8b-c41b484d34f8",
   "metadata": {},
   "outputs": [],
   "source": []
  }
 ],
 "metadata": {
  "kernelspec": {
   "display_name": "Python 3 (ipykernel)",
   "language": "python",
   "name": "python3"
  },
  "language_info": {
   "codemirror_mode": {
    "name": "ipython",
    "version": 3
   },
   "file_extension": ".py",
   "mimetype": "text/x-python",
   "name": "python",
   "nbconvert_exporter": "python",
   "pygments_lexer": "ipython3",
   "version": "3.11.6"
  }
 },
 "nbformat": 4,
 "nbformat_minor": 5
}
